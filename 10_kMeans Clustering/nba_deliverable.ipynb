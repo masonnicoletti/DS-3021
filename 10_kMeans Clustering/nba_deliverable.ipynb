{
 "cells": [
  {
   "cell_type": "markdown",
   "metadata": {},
   "source": [
    "# NBA Deliverable\n",
    "## For Mr. Rooney"
   ]
  },
  {
   "cell_type": "markdown",
   "metadata": {},
   "source": [
    "Write up the results in a separate notebook with supporting visualizations and an overview of how and why you made the choices you did. This should be at least 500 words and should be written for a non-technical audience."
   ]
  },
  {
   "cell_type": "markdown",
   "metadata": {},
   "source": [
    "### Summary\n",
    "In trying to tackle this problem, my goal was to build a data science model that displayed all current NBA players, revealing how well they performed in the 2023-2024 season based on various statistics. I then placed each NBA player in a 3D space, allowing me to see where players stand in comparison with each other based on statistics including points, minutes, and total rebounds. In addition to these statistics, I was able to apply a color for every player - this color serves as an indicator of that player's salary. In the visualization below, you can see that the yellow points represent players who earn very high salaries. Orange and pink data points indicate a salary that is middle tier. Data points that are dark purple represent players who are being paid on the low end of the spectrum in comparison to other NBA players.\n",
    "\n",
    "As one would expect, players with better statistics would have higher salaries and therefore be represented by a yellow/orange bullet point. But my goal here was to find the players with low salaries (purple and blue data points) that had statistics that were comparable to the top performing players. The visualization below allowed me to hand-pick out some of the highest-performing players in the league - although these players were being paid a relatively low salary last season. "
   ]
  },
  {
   "cell_type": "markdown",
   "metadata": {},
   "source": [
    "#### Data Visualization\n",
    "**Link:**\n",
    "http://127.0.0.1:40913"
   ]
  },
  {
   "cell_type": "code",
   "execution_count": null,
   "metadata": {},
   "outputs": [],
   "source": [
    "# Import kmeans_lab\n",
    "# Convert to matplotlib\n",
    "\n",
    "# Plot the clusters\n",
    "scatter = px.scatter_3d(nba_b, x='PTS', y='MP', z='TRB', color = nba['Salary'], hover_name=nba['Player'], symbol=nba_km.labels_)\n",
    "scatter.update_traces(marker=dict(size=10))\n",
    "scatter.show(renderer='browser')"
   ]
  },
  {
   "cell_type": "markdown",
   "metadata": {},
   "source": [
    "### Top 10 Player Recommendations\n",
    "\n",
    "1. Alperen Segun\n",
    "2. Cam Thomas\n",
    "3. Paulo Branchero\n",
    "4. Coby White\n",
    "5. Malik Beasley\n",
    "6. Franz Wagner\n",
    "7. Jalen Duren\n",
    "8. Jeremy Sochan\n",
    "9. Chet Holmgren\n",
    "10. Jalen Green\n"
   ]
  },
  {
   "cell_type": "markdown",
   "metadata": {},
   "source": [
    "If we do not sign some of these great players now, someone else will. It's only a matter of time before other teams realize these high-performers are being underpaid - we need to evaluate these top ten options right now and spring on this opportunity now before it's too late."
   ]
  }
 ],
 "metadata": {
  "kernelspec": {
   "display_name": "Python 3",
   "language": "python",
   "name": "python3"
  },
  "language_info": {
   "codemirror_mode": {
    "name": "ipython",
    "version": 3
   },
   "file_extension": ".py",
   "mimetype": "text/x-python",
   "name": "python",
   "nbconvert_exporter": "python",
   "pygments_lexer": "ipython3",
   "version": "3.12.8"
  }
 },
 "nbformat": 4,
 "nbformat_minor": 2
}
