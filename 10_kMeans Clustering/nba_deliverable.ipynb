{
 "cells": [
  {
   "cell_type": "markdown",
   "metadata": {},
   "source": [
    "# NBA Deliverable\n",
    "## For Mr. Rooney"
   ]
  },
  {
   "cell_type": "markdown",
   "metadata": {},
   "source": [
    "Write up the results in a separate notebook with supporting visualizations and an overview of how and why you made the choices you did. This should be at least 500 words and should be written for a non-technical audience."
   ]
  },
  {
   "cell_type": "markdown",
   "metadata": {},
   "source": [
    "### Summary\n",
    "In trying to tackle this problem, my goal was to create a data science model that displayed all current NBA players, revealing how well they performed in the 2023-2024 season based on various statistics. I placed each NBA player in a 3D space, allowing me to see where players stand in comparison with each other based on statistics including points, field goal percentage, and total rebounds. In addition to these statistics, I was able to apply a color for every player - this color serves as an indicator of that player's salary. In the visualization in the code below, you can see that the yellow points represent players who earn very high salaries. Orange and pink data points indicate a salary that is middle tier. Data points that are dark purple represent players who are being paid on the low end of the spectrum in comparison to other NBA players.\n",
    "\n",
    "As one would expect, players with better statistics would have higher salaries and therefore be represented by a yellow/orange bullet point. But my goal here was to find the players with low salaries (purple and blue data points) that had statistics that were comparable to the top performing players. The visualization below allowed me to hand-pick out some of the highest-performing players in the league - although these players are being paid a relatively low salary this season."
   ]
  },
  {
   "cell_type": "code",
   "execution_count": 38,
   "metadata": {},
   "outputs": [],
   "source": [
    "import pandas as pd\n",
    "import seaborn as sns\n",
    "import matplotlib.pyplot as plt\n",
    "import matplotlib.ticker as ticker\n",
    "from sklearn.preprocessing import MinMaxScaler\n",
    "from sklearn.cluster import KMeans\n",
    "import plotly.express as px"
   ]
  },
  {
   "cell_type": "code",
   "execution_count": 39,
   "metadata": {},
   "outputs": [
    {
     "data": {
      "image/png": "[encoded data removed]",
      "text/plain": [
       "<Figure size 640x480 with 1 Axes>"
      ]
     },
     "metadata": {},
     "output_type": "display_data"
    }
   ],
   "source": [
    "# Load the data\n",
    "nba_perf = pd.read_csv(\"nba_performance.csv\")\n",
    "nba_salaries = pd.read_csv(\"nba_salaries.csv\")\n",
    "\n",
    "# Merge data sets\n",
    "nba = pd.merge(nba_perf, nba_salaries, on='Player', how='inner')\n",
    "\n",
    "# Drop columns\n",
    "drop_columns = [\"Rk_x\", \"Awards\", \"Player-additional\", \"Rk_y\", \"Tm\", \"2025-26\", \"2026-27\", \"2027-28\", \"2028-29\", \"2029-30\", \"Guaranteed\", \"-9999\"]\n",
    "nba = nba.drop(columns=drop_columns)\n",
    "\n",
    "# Calculate Missing values\n",
    "nba[\"3P%\"] = nba[\"3P%\"].apply(lambda x: 0 if pd.isna(x) else x)\n",
    "nba[\"2P%\"] = nba[\"2P%\"].apply(lambda x: 0 if pd.isna(x) else x)\n",
    "nba[\"FT%\"] = nba[\"FT%\"].apply(lambda x: 0 if pd.isna(x) else x)\n",
    "nba[\"Trp-Dbl\"] = nba[\"Trp-Dbl\"].apply(lambda x: 0 if pd.isna(x) else x)\n",
    "\n",
    "# Standardize data\n",
    "num_columns = nba.select_dtypes('number').columns\n",
    "scaler = MinMaxScaler()\n",
    "nba[num_columns] = scaler.fit_transform(nba[num_columns])\n",
    "\n",
    "# Prepare the Target Variable (Salary)\n",
    "nba = nba.rename(columns={\"2024-25\": 'Salary'})\n",
    "nba['Salary'] = pd.to_numeric(nba['Salary'].str.strip(\"$\"))\n",
    "\n",
    "# Visualize salary distribution\n",
    "sns.histplot(nba['Salary'])\n",
    "plt.title(\"Salary Distribution\")\n",
    "plt.gca().xaxis.set_major_formatter(ticker.FuncFormatter(lambda x, _: f'{int(x/1000000)}M'))\n",
    "plt.show()"
   ]
  },
  {
   "cell_type": "code",
   "execution_count": 40,
   "metadata": {},
   "outputs": [],
   "source": [
    "# New data frame with only necessary features\n",
    "nba_model = nba.drop(columns=['Player', 'Team', 'Pos', 'Salary'])\n",
    "\n",
    "# Perform KMeans\n",
    "km = KMeans(n_clusters=3, random_state=45)\n",
    "nba_km = km.fit(nba_model)"
   ]
  },
  {
   "cell_type": "markdown",
   "metadata": {},
   "source": [
    "#### Data Visualization\n",
    "**Link:**\n",
    "http://127.0.0.1:40913"
   ]
  },
  {
   "cell_type": "code",
   "execution_count": 41,
   "metadata": {},
   "outputs": [],
   "source": [
    "# Plot the clusters\n",
    "# Variables: points, mins, field goal percentage\n",
    "scatter = px.scatter_3d(nba_model, x='PTS', y='FG%', z='TRB', color = nba['Salary'], hover_name=nba['Player'], symbol=nba_km.labels_)\n",
    "scatter.for_each_trace(lambda trace: trace.update(showlegend=True))\n",
    "scatter.show(renderer='browser')"
   ]
  },
  {
   "cell_type": "markdown",
   "metadata": {},
   "source": [
    "The code above creates a 3D visualization plotting all NBA players based three of the most important statistics that contribute to a player's salary: points, field goal percentage, and a third interchangeable variable - rebounds. I also explored visualizations with the third variable set to minutes and assists.\n",
    "\n",
    "According to an academic article published in The Sports Journal, the two most significant statistics contributing to an NBA player's salary are points per game and field goal percentage. In addition, rebounds, assists, and personal fouls are statistically significant in predicting salary (Lyons Jr. et al., 2015).\n",
    "\n",
    "Based on the findings in this visualization, I picked out ten players with excellent statistics that are currently not receiving salaries up to par with other high-performing players in the NBA."
   ]
  },
  {
   "cell_type": "markdown",
   "metadata": {},
   "source": [
    "### Top 10 Player Recommendations\n",
    "\n",
    "1. **Jalen Williams**\n",
    "   \n",
    "    Williams is an excellent candidate for our team, boasting a very strong field goal percentage (54%). He is on contract with OKC for only $4.8 million this year and should strongly be considered before his value shoots up.\n",
    "\n",
    "2. **Jalen Duren**\n",
    "   \n",
    "    Duren is a current starter for the Detroit Pistons but is only signed for a $4.5 million dollar contract this season. While he is averaging only 11 points per game, he is a very high percentage scorer (69.2% Field Goals). As a 21 year old, there is a lot of room for him to develop on our team.\n",
    "\n",
    "3. **Alperen Sengun**\n",
    "   \n",
    "    Segun is an excellent option if we want to add some height to our team at Center. He has an excellent shooting average and will be a great option for facilitating the offense. For a big man, he is a great passer, rebounder, and scorer. At the Houston Rockets, his current salary is $5.4 million this season.\n",
    "\n",
    "4. **Cam Thomas**\n",
    "   \n",
    "    Thomas's one year contract with the Brooklyn Nets ends this year - there he was paid $4.0 million during the 24-25 season. Thomas is the second highest scoring player on his team this season, and he is a decent three-point shooter. As a 22 year old, he will have a lot of potential to grow on our team.\n",
    "\n",
    "5. **Paolo Banchero**\n",
    "   \n",
    "    Banchero is currently signed by the Orlando Magic for $12.2 million this season. However, he is the 16th highest scorer in the league and would serve as a phenomenal addition to our offense. If we are looking for a low/mid cost superstar to add to our team, Banchero is the way to go.\n",
    "\n",
    "6. **Coby White**\n",
    "   \n",
    "    White is signed by the Chicago Bulls for $12.0 million this season. Like Banchero, he is a superstar being paid a low/mid salary. At point guard, White is a great passer and three-point shooter.\n",
    "\n",
    "7. **Malik Beasley**\n",
    "   \n",
    "    Beasley is a current starter for the Milwaukee Bucks, but he is only being paid $6.0 million this season. Beasley boasts a phenomenal three-point percentage and could be a useful addition to our team if we are looking for a strong shooter.\n",
    "\n",
    "8. **Jeremy Sochan**\n",
    "   \n",
    "    Sochan is a SA Spurs player signed at $5.6 million this year. This young star has well-rounded stats, and like Jalen Duren, has a lot of potential to develop on our team.\n",
    "\n",
    "9.  **Chet Holmgren**\n",
    "    \n",
    "    Another option at Center, Holgren is an excellent rebounder and decent scorer. He is on a $10.9 contract with OKC, so bringing him to our team would be a significant but worthwhile investment.\n",
    "\n",
    "10. **Jalen Green**\n",
    "    \n",
    "    Green is a top 20 scorer in the league right now playing for the Boston Celtics at $12.4 million a year. His value is anticipated to skyrocket in the next two years, so he may be worth considering for our team now if we are looking to bring on a shooting guard.\n"
   ]
  },
  {
   "cell_type": "markdown",
   "metadata": {},
   "source": [
    "### Conclusion\n",
    "\n",
    "If we do not sign some of these great players soon, someone else will. It's only a matter of time before other teams realize these high-performers are being underpaid - we need to evaluate these top ten options right now and spring on this opportunity before it's too late."
   ]
  }
 ],
 "metadata": {
  "kernelspec": {
   "display_name": "Python 3",
   "language": "python",
   "name": "python3"
  },
  "language_info": {
   "codemirror_mode": {
    "name": "ipython",
    "version": 3
   },
   "file_extension": ".py",
   "mimetype": "text/x-python",
   "name": "python",
   "nbconvert_exporter": "python",
   "pygments_lexer": "ipython3",
   "version": "3.12.8"
  }
 },
 "nbformat": 4,
 "nbformat_minor": 2
}
