{
 "cells": [
  {
   "cell_type": "markdown",
   "metadata": {},
   "source": [
    "# Decision Tree Lab\n",
    "\n",
    "### Analyzing IMBD Movie Ratings\n",
    "\n",
    "Congrats! You just graduated UVA's BSDS program and got a job working at a movie studio in Hollywood. \n",
    "\n",
    "Your boss is the head of the studio and wants to know if they can gain a competitive advantage by predicting new movies that might get high imdb scores (movie rating). \n",
    "\n",
    "You would like to be able to explain the model to mere mortals but need a fairly robust and flexible approach so you've chosen to use decision trees to get started. \n",
    "\n",
    "In doing so, similar to  great data scientists of the past you remembered the excellent education provided to you at UVA in a undergrad data science course and have outline 20ish steps that will need to be undertaken to complete this task. As always, you will need to make sure to #comment your work heavily. \n",
    "\n",
    " Footnotes: \n",
    "-\tYou can add or combine steps if needed\n",
    "-\tAlso, remember to try several methods during evaluation and always be mindful of how the model will be used in practice.\n",
    "\n",
    "\n",
    "- Make sure all your variables are the correct type (factor, character,numeric, etc.)\n",
    "- 19 What are the top 3 movies based on the tune set? Which variables are most important in predicting the top 3 movies?\n",
    "- Use three highest probabilities for falling into the threshold"
   ]
  },
  {
   "cell_type": "code",
   "execution_count": 137,
   "metadata": {},
   "outputs": [],
   "source": [
    "import pandas as pd\n",
    "import numpy as np\n",
    "from sklearn.model_selection import train_test_split, RepeatedStratifiedKFold, GridSearchCV\n",
    "from sklearn.metrics import accuracy_score, roc_auc_score, recall_score, precision_score, f1_score, confusion_matrix, ConfusionMatrixDisplay, make_scorer\n",
    "from sklearn.tree import DecisionTreeClassifier, export_graphviz, plot_tree\n",
    "from sklearn.preprocessing import LabelEncoder\n",
    "import matplotlib.pyplot as plt"
   ]
  },
  {
   "cell_type": "markdown",
   "metadata": {},
   "source": [
    "1. Load the Data"
   ]
  },
  {
   "cell_type": "code",
   "execution_count": 138,
   "metadata": {},
   "outputs": [],
   "source": [
    "# Load the data\n",
    "movie_data_raw = pd.read_csv(\"../data/movie_metadata.csv\")"
   ]
  },
  {
   "cell_type": "markdown",
   "metadata": {},
   "source": [
    "2. Ensure all the variables are classified correctly including the target variable and collapse factor variables as needed."
   ]
  },
  {
   "cell_type": "markdown",
   "metadata": {},
   "source": [
    "#### Target Variable \n",
    "Target Variable = IMDB Ratings greater than 8.0.\n",
    "\n",
    "This step is combined with Step 3 in a data preprocessing function."
   ]
  },
  {
   "cell_type": "markdown",
   "metadata": {},
   "source": [
    "3. Check for missing variables and correct as needed. Once you've completed the cleaning again create a function that will do this for you in the future. In the submission, include only the function and the function call."
   ]
  },
  {
   "cell_type": "code",
   "execution_count": 139,
   "metadata": {},
   "outputs": [],
   "source": [
    "# Drop NA Rows\n",
    "#movie_data.isna().sum()\n",
    "#movie_data = movie_data.dropna()"
   ]
  },
  {
   "cell_type": "code",
   "execution_count": null,
   "metadata": {},
   "outputs": [
    {
     "name": "stderr",
     "output_type": "stream",
     "text": [
      "/tmp/ipykernel_902/1050130078.py:9: SettingWithCopyWarning: \n",
      "A value is trying to be set on a copy of a slice from a DataFrame.\n",
      "Try using .loc[row_indexer,col_indexer] = value instead\n",
      "\n",
      "See the caveats in the documentation: https://pandas.pydata.org/pandas-docs/stable/user_guide/indexing.html#returning-a-view-versus-a-copy\n",
      "  movie_df[\"director_name\"] = movie_df.director_name.apply(lambda x: 1 if x in top10_director else 0).astype(\"category\")\n"
     ]
    }
   ],
   "source": [
    "# Data Preparation Function\n",
    "\n",
    "def prepare_movie_data(movie_df):\n",
    "    # Drop NA Rows\n",
    "    movie_df = movie_df.dropna()\n",
    "\n",
    "    # Collapse movie directors variable\n",
    "    top10_director = movie_df.groupby(by='director_name').size().sort_values(ascending=False).head(10)\n",
    "    movie_df[\"director_name\"] = movie_df.director_name.apply(lambda x: 1 if x in top10_director else 0).astype(\"category\")\n",
    "    movie_df = movie_df.rename(columns={'director_name': 'top_director'})\n",
    "\n",
    "    # Collapse actor_1 variable\n",
    "    top30_actor = movie_df.groupby(by='actor_1_name').size().sort_values(ascending=False).head(30)\n",
    "    movie_df[\"actor_1_name\"] = movie_df.actor_1_name.apply(lambda x: 1 if x in top30_actor else 0).astype(\"category\")\n",
    "    movie_df = movie_df.rename(columns={'actor_1_name': 'top_lead_actor'})\n",
    "\n",
    "    # Adjust the variable for genres\n",
    "    genre = [\"Drama\", \"Comedy\", \"Action\", \"Horror\", \"Fantasy\", \"Documentary\", \"Crime\", \"Adventure\", \"Animation\", \"Biography\"]\n",
    "    movie_df['genres'] = movie_df['genres'].str.split(\"|\")\n",
    "    movie_df['genres'] = movie_df.genres.apply(lambda x: x[0] if x[0] in genre else \"Other\").astype(\"category\")\n",
    "\n",
    "    # Collapse genre variable\n",
    "    #movie_df['genres'] = movie_df['genres'].str.split(\"|\").apply(lambda x: x[0])\n",
    "    #top3_genre = movie_df.groupby(by='genres').size().sort_values(ascending=False).head(3)\n",
    "    #movie_df[\"genres\"] = movie_df.genres.apply(lambda x: \"Top 3\" if x in top3_genre else \"Other\").astype(\"category\")\n",
    "\n",
    "    # Collapse language variable\n",
    "    movie_df['language'] = movie_df.language.apply(lambda x: 1 if x==\"English\" else 0).astype(\"category\")\n",
    "    movie_df = movie_df.rename(columns={'language': 'language_english'})\n",
    "\n",
    "    # Collapse country variable\n",
    "    movie_df['country'] = movie_df.country.apply(lambda x: 1 if x==\"USA\" else 0).astype(\"category\")\n",
    "    movie_df = movie_df.rename(columns={'country': 'country_usa'})\n",
    "\n",
    "    # Collapse rating variable\n",
    "    ratings = [\"PG\", \"PG-13\", \"R\"]\n",
    "    movie_df['content_rating'] = movie_df.content_rating.apply(lambda x: x if x in ratings else \"Other\").astype(\"category\")\n",
    "\n",
    "    # Drop unnecessary features\n",
    "    drop_cols = ['color', 'title_year', 'director_facebook_likes', 'actor_3_facebook_likes', 'actor_2_name', 'actor_1_facebook_likes', 'facenumber_in_poster', 'cast_total_facebook_likes', 'movie_title', 'actor_3_name', 'plot_keywords', 'movie_imdb_link', 'actor_2_facebook_likes', 'aspect_ratio', 'movie_facebook_likes', 'num_voted_users', 'num_user_for_reviews', 'num_critic_for_reviews', 'gross']\n",
    "    movie_df = movie_df.drop(columns=drop_cols)\n",
    "\n",
    "    # Label Encoding\n",
    "    le_columns = ['content_rating', 'genres']\n",
    "    label_encoder = LabelEncoder()\n",
    "    movie_df[le_columns[0]] = label_encoder.fit_transform(movie_df[le_columns[0]])\n",
    "    movie_df[le_columns[1]] = label_encoder.fit_transform(movie_df[le_columns[1]])\n",
    "\n",
    "    # Encode categorical variables into numeric\n",
    "    #category_cols = list(movie_df.select_dtypes('category'))\n",
    "    #movie_df = pd.get_dummies(movie_df, columns=category_cols, drop_first=True)\n",
    "\n",
    "    # Classify target variable\n",
    "    imdb_score_target = 8.0\n",
    "    movie_df['imdb_score'] = movie_df.imdb_score.apply(lambda x: 1 if x >= imdb_score_target else 0).astype('category')\n",
    "\n",
    "    return movie_df\n",
    "\n",
    "\n",
    "movie_data = prepare_movie_data(movie_data_raw)\n"
   ]
  },
  {
   "cell_type": "markdown",
   "metadata": {},
   "source": [
    "4. Guess what, you don't need to scale the data, because DTs don't require this to be done, they make local greedy decisions...keeps getting easier, go to the next step."
   ]
  },
  {
   "cell_type": "markdown",
   "metadata": {},
   "source": [
    "5. Determine the baserate or prevalence for the classifier, what does this number mean?\n",
    "\n",
    "The baserate/prevalence of the classifier is the the rate of target variables that are the positive class. In this case, it is the proportion of movies that have an imdb score greater than or equal to 8.0."
   ]
  },
  {
   "cell_type": "code",
   "execution_count": 141,
   "metadata": {},
   "outputs": [
    {
     "name": "stdout",
     "output_type": "stream",
     "text": [
      "0.05619174434087883\n"
     ]
    }
   ],
   "source": [
    "# Calculate prevalence of classifier\n",
    "\n",
    "prevalence = movie_data.imdb_score.value_counts()[1]/len(movie_data)\n",
    "print(prevalence)"
   ]
  },
  {
   "cell_type": "markdown",
   "metadata": {},
   "source": [
    "6. Split your data into test, tune, and train. (80/10/10)"
   ]
  },
  {
   "cell_type": "code",
   "execution_count": 142,
   "metadata": {},
   "outputs": [],
   "source": [
    "# Separate features and target variable\n",
    "x = movie_data.drop(columns='imdb_score')\n",
    "y = movie_data['imdb_score']\n",
    "\n",
    "# Split into train and test sets\n",
    "x_train, x_test, y_train, y_test = train_test_split(x, y, train_size=0.8, stratify=y, random_state=45)\n",
    "\n",
    "# Split into test and tune sets\n",
    "x_tune, x_test, y_tune, y_test = train_test_split(x_test, y_test, test_size=0.5, stratify=y_test, random_state=45)\n"
   ]
  },
  {
   "cell_type": "markdown",
   "metadata": {},
   "source": [
    "7. Create the kfold object for cross validation."
   ]
  },
  {
   "cell_type": "code",
   "execution_count": 143,
   "metadata": {},
   "outputs": [],
   "source": [
    "# Instantiate KFold Object\n",
    "\n",
    "kf = RepeatedStratifiedKFold(n_splits=5, n_repeats=4, random_state=45)"
   ]
  },
  {
   "cell_type": "markdown",
   "metadata": {},
   "source": [
    "8. Create the scoring metric you will use to evaluate your model and the max depth hyperparameter (grid search)"
   ]
  },
  {
   "cell_type": "code",
   "execution_count": 144,
   "metadata": {},
   "outputs": [],
   "source": [
    "# Define scoring metrics to evaluate the model\n",
    "#scoring_metrics = ['accuracy', 'recall', 'precision', 'f1', 'roc_auc']\n",
    "\n",
    "# Edit precision scorer to eliminate warning errors\n",
    "precision = make_scorer(precision_score, zero_division=0)\n",
    "\n",
    "scoring_metrics = {'accuracy': 'accuracy', \n",
    "                   'recall': 'recall', \n",
    "                   'precision': precision, \n",
    "                   'f1': 'f1', \n",
    "                   'roc_auc': 'roc_auc'}\n",
    "\n",
    "# Create the max depth hyperparameter\n",
    "max_depth_param = {'max_depth': [1, 2, 3, 4, 5, 6, 7, 8, 9, 10, 11, 12]}"
   ]
  },
  {
   "cell_type": "markdown",
   "metadata": {},
   "source": [
    "9. Build the classifier object"
   ]
  },
  {
   "cell_type": "code",
   "execution_count": 145,
   "metadata": {},
   "outputs": [],
   "source": [
    "# Instantiate Decision Tree Classifier object\n",
    "\n",
    "dt = DecisionTreeClassifier(random_state=45)"
   ]
  },
  {
   "cell_type": "markdown",
   "metadata": {},
   "source": [
    "10. Use the kfold object and the scoring metric to find the best hyperparameter value for max depth via the grid search method."
   ]
  },
  {
   "cell_type": "code",
   "execution_count": 146,
   "metadata": {},
   "outputs": [],
   "source": [
    "# Implement Grid Search on the Decision Tree Classifier\n",
    "search = GridSearchCV(dt, max_depth_param, scoring=scoring_metrics, n_jobs=1, refit='f1', cv=kf)"
   ]
  },
  {
   "cell_type": "markdown",
   "metadata": {},
   "source": [
    "11. Fit the model to the training data."
   ]
  },
  {
   "cell_type": "code",
   "execution_count": 147,
   "metadata": {},
   "outputs": [],
   "source": [
    "# Execute the search on the training data\n",
    "dt_model = search.fit(x_train, y_train)\n",
    "\n",
    "#dt_model.cv_results_"
   ]
  },
  {
   "cell_type": "markdown",
   "metadata": {},
   "source": [
    "12. What is the best depth value?"
   ]
  },
  {
   "cell_type": "code",
   "execution_count": 148,
   "metadata": {},
   "outputs": [
    {
     "name": "stdout",
     "output_type": "stream",
     "text": [
      "DecisionTreeClassifier(max_depth=10, random_state=45)\n"
     ]
    }
   ],
   "source": [
    "# Evaluate the best depth value\n",
    "best_depth = dt_model.best_estimator_\n",
    "\n",
    "print(best_depth)"
   ]
  },
  {
   "cell_type": "markdown",
   "metadata": {},
   "source": [
    "13. Print out the model"
   ]
  },
  {
   "cell_type": "code",
   "execution_count": 149,
   "metadata": {},
   "outputs": [
    {
     "name": "stdout",
     "output_type": "stream",
     "text": [
      "GridSearchCV(cv=RepeatedStratifiedKFold(n_repeats=4, n_splits=5, random_state=45),\n",
      "             estimator=DecisionTreeClassifier(random_state=45), n_jobs=1,\n",
      "             param_grid={'max_depth': [1, 2, 3, 4, 5, 6, 7, 8, 9, 10, 11, 12]},\n",
      "             refit='f1',\n",
      "             scoring={'accuracy': 'accuracy', 'f1': 'f1',\n",
      "                      'precision': make_scorer(precision_score, response_method='predict', zero_division=0),\n",
      "                      'recall': 'recall', 'roc_auc': 'roc_auc'})\n"
     ]
    }
   ],
   "source": [
    "# Print model\n",
    "print(dt_model)"
   ]
  },
  {
   "cell_type": "code",
   "execution_count": 150,
   "metadata": {},
   "outputs": [
    {
     "data": {
      "image/png": "[encoded data removed]",
      "text/plain": [
       "<Figure size 640x480 with 1 Axes>"
      ]
     },
     "metadata": {},
     "output_type": "display_data"
    }
   ],
   "source": [
    "# Visualize Best Model\n",
    "plt.figure()\n",
    "plot_tree(best_depth, feature_names=x_train.columns, filled=True, rounded=True)\n",
    "plt.show()"
   ]
  },
  {
   "cell_type": "code",
   "execution_count": 151,
   "metadata": {},
   "outputs": [
    {
     "data": {
      "text/html": [
       "<div>\n",
       "<style scoped>\n",
       "    .dataframe tbody tr th:only-of-type {\n",
       "        vertical-align: middle;\n",
       "    }\n",
       "\n",
       "    .dataframe tbody tr th {\n",
       "        vertical-align: top;\n",
       "    }\n",
       "\n",
       "    .dataframe thead th {\n",
       "        text-align: right;\n",
       "    }\n",
       "</style>\n",
       "<table border=\"1\" class=\"dataframe\">\n",
       "  <thead>\n",
       "    <tr style=\"text-align: right;\">\n",
       "      <th></th>\n",
       "      <th>Depth</th>\n",
       "      <th>Accuracy</th>\n",
       "      <th>Recall</th>\n",
       "      <th>Precision</th>\n",
       "      <th>F1 Score</th>\n",
       "      <th>AUC Score</th>\n",
       "    </tr>\n",
       "  </thead>\n",
       "  <tbody>\n",
       "    <tr>\n",
       "      <th>0</th>\n",
       "      <td>1</td>\n",
       "      <td>0.943742</td>\n",
       "      <td>0.000000</td>\n",
       "      <td>0.000000</td>\n",
       "      <td>0.000000</td>\n",
       "      <td>0.621251</td>\n",
       "    </tr>\n",
       "    <tr>\n",
       "      <th>1</th>\n",
       "      <td>2</td>\n",
       "      <td>0.942327</td>\n",
       "      <td>0.014706</td>\n",
       "      <td>0.138526</td>\n",
       "      <td>0.025214</td>\n",
       "      <td>0.673548</td>\n",
       "    </tr>\n",
       "    <tr>\n",
       "      <th>2</th>\n",
       "      <td>3</td>\n",
       "      <td>0.942660</td>\n",
       "      <td>0.035651</td>\n",
       "      <td>0.334484</td>\n",
       "      <td>0.061790</td>\n",
       "      <td>0.723050</td>\n",
       "    </tr>\n",
       "    <tr>\n",
       "      <th>3</th>\n",
       "      <td>4</td>\n",
       "      <td>0.942161</td>\n",
       "      <td>0.065107</td>\n",
       "      <td>0.455817</td>\n",
       "      <td>0.108745</td>\n",
       "      <td>0.718753</td>\n",
       "    </tr>\n",
       "    <tr>\n",
       "      <th>4</th>\n",
       "      <td>5</td>\n",
       "      <td>0.939331</td>\n",
       "      <td>0.078342</td>\n",
       "      <td>0.360606</td>\n",
       "      <td>0.122628</td>\n",
       "      <td>0.690094</td>\n",
       "    </tr>\n",
       "    <tr>\n",
       "      <th>5</th>\n",
       "      <td>6</td>\n",
       "      <td>0.934420</td>\n",
       "      <td>0.079857</td>\n",
       "      <td>0.236519</td>\n",
       "      <td>0.116162</td>\n",
       "      <td>0.665529</td>\n",
       "    </tr>\n",
       "    <tr>\n",
       "      <th>6</th>\n",
       "      <td>7</td>\n",
       "      <td>0.931092</td>\n",
       "      <td>0.103565</td>\n",
       "      <td>0.237604</td>\n",
       "      <td>0.141613</td>\n",
       "      <td>0.625393</td>\n",
       "    </tr>\n",
       "    <tr>\n",
       "      <th>7</th>\n",
       "      <td>8</td>\n",
       "      <td>0.926348</td>\n",
       "      <td>0.133200</td>\n",
       "      <td>0.232746</td>\n",
       "      <td>0.167805</td>\n",
       "      <td>0.581333</td>\n",
       "    </tr>\n",
       "    <tr>\n",
       "      <th>8</th>\n",
       "      <td>9</td>\n",
       "      <td>0.923270</td>\n",
       "      <td>0.139260</td>\n",
       "      <td>0.211659</td>\n",
       "      <td>0.165684</td>\n",
       "      <td>0.556962</td>\n",
       "    </tr>\n",
       "    <tr>\n",
       "      <th>9</th>\n",
       "      <td>10</td>\n",
       "      <td>0.919608</td>\n",
       "      <td>0.177763</td>\n",
       "      <td>0.225860</td>\n",
       "      <td>0.197453</td>\n",
       "      <td>0.548658</td>\n",
       "    </tr>\n",
       "    <tr>\n",
       "      <th>10</th>\n",
       "      <td>11</td>\n",
       "      <td>0.914780</td>\n",
       "      <td>0.184982</td>\n",
       "      <td>0.209790</td>\n",
       "      <td>0.195169</td>\n",
       "      <td>0.552461</td>\n",
       "    </tr>\n",
       "    <tr>\n",
       "      <th>11</th>\n",
       "      <td>12</td>\n",
       "      <td>0.911535</td>\n",
       "      <td>0.192469</td>\n",
       "      <td>0.204012</td>\n",
       "      <td>0.196893</td>\n",
       "      <td>0.565939</td>\n",
       "    </tr>\n",
       "  </tbody>\n",
       "</table>\n",
       "</div>"
      ],
      "text/plain": [
       "    Depth  Accuracy    Recall  Precision  F1 Score  AUC Score\n",
       "0       1  0.943742  0.000000   0.000000  0.000000   0.621251\n",
       "1       2  0.942327  0.014706   0.138526  0.025214   0.673548\n",
       "2       3  0.942660  0.035651   0.334484  0.061790   0.723050\n",
       "3       4  0.942161  0.065107   0.455817  0.108745   0.718753\n",
       "4       5  0.939331  0.078342   0.360606  0.122628   0.690094\n",
       "5       6  0.934420  0.079857   0.236519  0.116162   0.665529\n",
       "6       7  0.931092  0.103565   0.237604  0.141613   0.625393\n",
       "7       8  0.926348  0.133200   0.232746  0.167805   0.581333\n",
       "8       9  0.923270  0.139260   0.211659  0.165684   0.556962\n",
       "9      10  0.919608  0.177763   0.225860  0.197453   0.548658\n",
       "10     11  0.914780  0.184982   0.209790  0.195169   0.552461\n",
       "11     12  0.911535  0.192469   0.204012  0.196893   0.565939"
      ]
     },
     "execution_count": 151,
     "metadata": {},
     "output_type": "execute_result"
    }
   ],
   "source": [
    "# Create a table of performance metric scores\n",
    "\n",
    "# Extract scores\n",
    "accuracy_result = dt_model.cv_results_['mean_test_accuracy']\n",
    "recall_result = dt_model.cv_results_['mean_test_recall']\n",
    "precision_result = dt_model.cv_results_['mean_test_precision']\n",
    "f1_result = dt_model.cv_results_['mean_test_f1']\n",
    "roc_auc_result = dt_model.cv_results_['mean_test_roc_auc']\n",
    "\n",
    "# Make table\n",
    "dt_model_scores = pd.DataFrame({\"Depth\": max_depth_param['max_depth'],\n",
    "                                \"Accuracy\": accuracy_result,\n",
    "                                \"Recall\": recall_result,\n",
    "                                \"Precision\": precision_result,\n",
    "                                \"F1 Score\": f1_result,\n",
    "                                \"AUC Score\": roc_auc_result})\n",
    "\n",
    "dt_model_scores"
   ]
  },
  {
   "cell_type": "markdown",
   "metadata": {},
   "source": [
    "14. View the results, comment on how the model performed using the metrics you selected.\n",
    "\n",
    "Looking at the performance metric scores data frame, the model scored differently for different metrics across the different levels of `max_depth`. For instance, the AUC was the highest with a max depth of 3, as well as accuracy. However, precision was the greatest with a depth of 4 and recall was the greatest with a depth of 12. This just goes to show that even though the model may score well at one depth level for one of the metrics, it may be better off at a different depth for another metric."
   ]
  },
  {
   "cell_type": "markdown",
   "metadata": {},
   "source": [
    "15. Which variables appear to be contributing the most (variable importance) "
   ]
  },
  {
   "cell_type": "code",
   "execution_count": 152,
   "metadata": {},
   "outputs": [
    {
     "data": {
      "text/html": [
       "<div>\n",
       "<style scoped>\n",
       "    .dataframe tbody tr th:only-of-type {\n",
       "        vertical-align: middle;\n",
       "    }\n",
       "\n",
       "    .dataframe tbody tr th {\n",
       "        vertical-align: top;\n",
       "    }\n",
       "\n",
       "    .dataframe thead th {\n",
       "        text-align: right;\n",
       "    }\n",
       "</style>\n",
       "<table border=\"1\" class=\"dataframe\">\n",
       "  <thead>\n",
       "    <tr style=\"text-align: right;\">\n",
       "      <th></th>\n",
       "      <th>Importance</th>\n",
       "    </tr>\n",
       "  </thead>\n",
       "  <tbody>\n",
       "    <tr>\n",
       "      <th>budget</th>\n",
       "      <td>0.399544</td>\n",
       "    </tr>\n",
       "    <tr>\n",
       "      <th>duration</th>\n",
       "      <td>0.334150</td>\n",
       "    </tr>\n",
       "    <tr>\n",
       "      <th>genres</th>\n",
       "      <td>0.120112</td>\n",
       "    </tr>\n",
       "    <tr>\n",
       "      <th>content_rating</th>\n",
       "      <td>0.069609</td>\n",
       "    </tr>\n",
       "    <tr>\n",
       "      <th>language_english</th>\n",
       "      <td>0.026846</td>\n",
       "    </tr>\n",
       "    <tr>\n",
       "      <th>top_director</th>\n",
       "      <td>0.025051</td>\n",
       "    </tr>\n",
       "    <tr>\n",
       "      <th>top_lead_actor</th>\n",
       "      <td>0.019121</td>\n",
       "    </tr>\n",
       "    <tr>\n",
       "      <th>country_usa</th>\n",
       "      <td>0.005567</td>\n",
       "    </tr>\n",
       "  </tbody>\n",
       "</table>\n",
       "</div>"
      ],
      "text/plain": [
       "                  Importance\n",
       "budget              0.399544\n",
       "duration            0.334150\n",
       "genres              0.120112\n",
       "content_rating      0.069609\n",
       "language_english    0.026846\n",
       "top_director        0.025051\n",
       "top_lead_actor      0.019121\n",
       "country_usa         0.005567"
      ]
     },
     "execution_count": 152,
     "metadata": {},
     "output_type": "execute_result"
    }
   ],
   "source": [
    "# Determine the most important variables for the best model\n",
    "var_importance = pd.DataFrame(best_depth.feature_importances_, index=x_train.columns, columns=['Importance']).sort_values(by=\"Importance\", ascending=False)\n",
    "\n",
    "var_importance"
   ]
  },
  {
   "cell_type": "code",
   "execution_count": 153,
   "metadata": {},
   "outputs": [
    {
     "data": {
      "image/png": "[encoded data removed]",
      "text/plain": [
       "<Figure size 640x480 with 1 Axes>"
      ]
     },
     "metadata": {},
     "output_type": "display_data"
    }
   ],
   "source": [
    "# Graph the Variable Importance\n",
    "plt.figure()\n",
    "var_importance.Importance.nlargest().sort_values().plot(kind=\"barh\")\n",
    "plt.xlabel(\"Importance\")\n",
    "plt.ylabel(\"Features\")\n",
    "plt.show()"
   ]
  },
  {
   "cell_type": "markdown",
   "metadata": {},
   "source": [
    "The features `budget`, `duration`, and `genres` contribute the most to the model in that order."
   ]
  },
  {
   "cell_type": "markdown",
   "metadata": {},
   "source": [
    "16. Use the predict method on the tune data and print out the results."
   ]
  },
  {
   "cell_type": "code",
   "execution_count": 154,
   "metadata": {},
   "outputs": [
    {
     "name": "stdout",
     "output_type": "stream",
     "text": [
      "Accuracy of the Tune Set: 0.928\n",
      "Recall of the Tune Set: 0.3333333333333333\n",
      "Precision of the Tune Set: 0.35\n",
      "AUC Score of the Tune Set: 0.6483050847457626\n"
     ]
    },
    {
     "data": {
      "text/html": [
       "<div>\n",
       "<style scoped>\n",
       "    .dataframe tbody tr th:only-of-type {\n",
       "        vertical-align: middle;\n",
       "    }\n",
       "\n",
       "    .dataframe tbody tr th {\n",
       "        vertical-align: top;\n",
       "    }\n",
       "\n",
       "    .dataframe thead th {\n",
       "        text-align: right;\n",
       "    }\n",
       "</style>\n",
       "<table border=\"1\" class=\"dataframe\">\n",
       "  <thead>\n",
       "    <tr style=\"text-align: right;\">\n",
       "      <th></th>\n",
       "      <th>Predicted</th>\n",
       "      <th>Actual</th>\n",
       "    </tr>\n",
       "  </thead>\n",
       "  <tbody>\n",
       "    <tr>\n",
       "      <th>939</th>\n",
       "      <td>0</td>\n",
       "      <td>0</td>\n",
       "    </tr>\n",
       "    <tr>\n",
       "      <th>688</th>\n",
       "      <td>0</td>\n",
       "      <td>0</td>\n",
       "    </tr>\n",
       "    <tr>\n",
       "      <th>4680</th>\n",
       "      <td>0</td>\n",
       "      <td>0</td>\n",
       "    </tr>\n",
       "    <tr>\n",
       "      <th>3471</th>\n",
       "      <td>0</td>\n",
       "      <td>0</td>\n",
       "    </tr>\n",
       "    <tr>\n",
       "      <th>557</th>\n",
       "      <td>0</td>\n",
       "      <td>0</td>\n",
       "    </tr>\n",
       "    <tr>\n",
       "      <th>3128</th>\n",
       "      <td>0</td>\n",
       "      <td>0</td>\n",
       "    </tr>\n",
       "    <tr>\n",
       "      <th>4063</th>\n",
       "      <td>0</td>\n",
       "      <td>0</td>\n",
       "    </tr>\n",
       "    <tr>\n",
       "      <th>1439</th>\n",
       "      <td>0</td>\n",
       "      <td>0</td>\n",
       "    </tr>\n",
       "    <tr>\n",
       "      <th>2162</th>\n",
       "      <td>0</td>\n",
       "      <td>0</td>\n",
       "    </tr>\n",
       "    <tr>\n",
       "      <th>3280</th>\n",
       "      <td>1</td>\n",
       "      <td>1</td>\n",
       "    </tr>\n",
       "  </tbody>\n",
       "</table>\n",
       "</div>"
      ],
      "text/plain": [
       "      Predicted Actual\n",
       "939           0      0\n",
       "688           0      0\n",
       "4680          0      0\n",
       "3471          0      0\n",
       "557           0      0\n",
       "3128          0      0\n",
       "4063          0      0\n",
       "1439          0      0\n",
       "2162          0      0\n",
       "3280          1      1"
      ]
     },
     "execution_count": 154,
     "metadata": {},
     "output_type": "execute_result"
    }
   ],
   "source": [
    "# Predict on the tune set\n",
    "tune_pred = dt_model.predict(x_tune)\n",
    "\n",
    "# Calculate performance metrics of the tune set\n",
    "#accuracy = best_depth.score(x_tune, y_tune)\n",
    "tune_accuracy = accuracy_score(y_tune, tune_pred)\n",
    "tune_precision = precision_score(y_tune, tune_pred)\n",
    "tune_recall = recall_score(y_tune, tune_pred)\n",
    "tune_auc = roc_auc_score(y_tune, tune_pred)\n",
    "\n",
    "# Print performance metrics of the tune set\n",
    "print(\"Accuracy of the Tune Set:\", tune_accuracy)\n",
    "print(\"Recall of the Tune Set:\", tune_recall)\n",
    "print(\"Precision of the Tune Set:\", tune_precision)\n",
    "print(\"AUC Score of the Tune Set:\", tune_auc)\n",
    "\n",
    "# Print out the predicted results\n",
    "pred_df = pd.DataFrame({\"Predicted\": tune_pred,\n",
    "                        \"Actual\": y_tune})\n",
    "\n",
    "pred_df.head(10)\n"
   ]
  },
  {
   "cell_type": "markdown",
   "metadata": {},
   "source": [
    "17. How does the model perform on the tune data?\n",
    "\n",
    "The tune set had an accuracy score in the same range as the testing data, meaning it performed as expected with the model. The AUC score of the tune data is slightly higher the test data AUC.\n",
    "\n",
    "However, the tune data scored surprisingly high for both recall and precision in relation to the test data. Based on the Confusion Matrix below, we can see that the positive class is very small, so there are lots of false positives and false negatives being predicted - even more so than true positives.\n",
    "\n",
    "Overall, the model performed well on the tune data."
   ]
  },
  {
   "cell_type": "markdown",
   "metadata": {},
   "source": [
    "18. Print out the confusion matrix for the tune data, what does it tell you about the model?"
   ]
  },
  {
   "cell_type": "code",
   "execution_count": 155,
   "metadata": {},
   "outputs": [
    {
     "data": {
      "image/png": "[encoded data removed]",
      "text/plain": [
       "<Figure size 640x480 with 2 Axes>"
      ]
     },
     "metadata": {},
     "output_type": "display_data"
    }
   ],
   "source": [
    "# Create a Confusion Matrix from the tuning data predictions\n",
    "cm = confusion_matrix(y_tune, tune_pred)\n",
    "cm_display = ConfusionMatrixDisplay(confusion_matrix=cm, display_labels=dt_model.classes_)\n",
    "cm_display.plot(cmap='YlGn')\n",
    "plt.show()"
   ]
  },
  {
   "cell_type": "markdown",
   "metadata": {},
   "source": [
    "The confusion matrix reveals how small in amount the positive class is (movies with an IMDB rating above 8.0). Resultingly, many false positives and false negatives are being predicted, leading to quite low precision and recall scores. However, the accuracy remains relatively high thanks to the abundance of the negative class (movies with an IMDB rating below 8.0) and the accuracy of the model in being able to predict these movies."
   ]
  },
  {
   "cell_type": "markdown",
   "metadata": {},
   "source": [
    "19. What are the top 3 movies based on the tune set? Which variables are most important in predicting the top 3 movies?"
   ]
  },
  {
   "cell_type": "code",
   "execution_count": 156,
   "metadata": {},
   "outputs": [
    {
     "name": "stdout",
     "output_type": "stream",
     "text": [
      "2829               Downfall \n",
      "499             The Postman \n",
      "4259    The Lives of Others \n",
      "Name: movie_title, dtype: object\n"
     ]
    }
   ],
   "source": [
    "# Identify the top 3 movies based on the tune set\n",
    "\n",
    "# Create a new dataframe from the x and y tune sets\n",
    "tune_df = pd.concat([x_tune, y_tune], axis=1)\n",
    "\n",
    "# Add the predicted values to the set\n",
    "tune_df['predicted'] = tune_pred\n",
    "\n",
    "# Sort the tune df and pick out the top 3 movies\n",
    "top3_tune = tune_df.sort_values(by=\"predicted\", ascending=False).head(3)\n",
    "\n",
    "# Create a variable to store the index of the top 3 movies\n",
    "top3_tune_index = list(top3_tune.index)\n",
    "\n",
    "# Locate the movie titles at these 3 indexes in the original movie df\n",
    "top3_tune_movies = movie_data_raw.iloc[top3_tune_index]\n",
    "\n",
    "# Print out the movie titles of the top 3 movies in the tune set\n",
    "print(top3_tune_movies['movie_title'])\n"
   ]
  },
  {
   "cell_type": "code",
   "execution_count": 157,
   "metadata": {},
   "outputs": [
    {
     "data": {
      "text/html": [
       "<div>\n",
       "<style scoped>\n",
       "    .dataframe tbody tr th:only-of-type {\n",
       "        vertical-align: middle;\n",
       "    }\n",
       "\n",
       "    .dataframe tbody tr th {\n",
       "        vertical-align: top;\n",
       "    }\n",
       "\n",
       "    .dataframe thead th {\n",
       "        text-align: right;\n",
       "    }\n",
       "</style>\n",
       "<table border=\"1\" class=\"dataframe\">\n",
       "  <thead>\n",
       "    <tr style=\"text-align: right;\">\n",
       "      <th></th>\n",
       "      <th>Importance</th>\n",
       "    </tr>\n",
       "  </thead>\n",
       "  <tbody>\n",
       "    <tr>\n",
       "      <th>duration</th>\n",
       "      <td>0.68305</td>\n",
       "    </tr>\n",
       "    <tr>\n",
       "      <th>budget</th>\n",
       "      <td>0.31695</td>\n",
       "    </tr>\n",
       "    <tr>\n",
       "      <th>top_director</th>\n",
       "      <td>0.00000</td>\n",
       "    </tr>\n",
       "  </tbody>\n",
       "</table>\n",
       "</div>"
      ],
      "text/plain": [
       "              Importance\n",
       "duration         0.68305\n",
       "budget           0.31695\n",
       "top_director     0.00000"
      ]
     },
     "execution_count": 157,
     "metadata": {},
     "output_type": "execute_result"
    }
   ],
   "source": [
    "# Determine variable importance for the top 3 movies of the tune set\n",
    "\n",
    "# Create new x and y sets based on the top 3 tune movies\n",
    "#x_tune_top = top3_tune.drop(columns=['predicted', 'imdb_score'])\n",
    "#y_tune_top = top3_tune['imdb_score']\n",
    "\n",
    "# Refit the model on the tune data\n",
    "dt_tune_model = search.fit(x_tune, y_tune)\n",
    "\n",
    "# Pick out the best tune model (based on the max depth parameter)\n",
    "best_tune_model = dt_tune_model.best_estimator_\n",
    "\n",
    "# Determine the feature importance for this best model\n",
    "tune_var_importance = pd.DataFrame({\"Importance\": best_tune_model.feature_importances_}, index=x_tune.columns).sort_values(by=\"Importance\", ascending=False)\n",
    "\n",
    "tune_var_importance.head(3)"
   ]
  },
  {
   "cell_type": "markdown",
   "metadata": {},
   "source": [
    "The top 3 movies based on the predicted values from the tune set are \n",
    "1. Downfall\n",
    "2. The Postman\n",
    "3. The Lives of Others\n",
    "\n",
    "The two most important variables in predicting these top 3 movies were duration and budget."
   ]
  },
  {
   "cell_type": "markdown",
   "metadata": {},
   "source": [
    "20. Use a different hyperparameter for the grid search function and go through the process above again using the tune set."
   ]
  },
  {
   "cell_type": "code",
   "execution_count": 158,
   "metadata": {},
   "outputs": [
    {
     "name": "stdout",
     "output_type": "stream",
     "text": [
      "Accuracy of the Tune Set: 0.9466666666666667\n",
      "Recall of the Tune Set: 0.2857142857142857\n",
      "Precision of the Tune Set: 0.5454545454545454\n",
      "AUC Score of the Tune Set: 0.6357949959644874\n"
     ]
    },
    {
     "data": {
      "image/png": "[encoded data removed]",
      "text/plain": [
       "<Figure size 640x480 with 2 Axes>"
      ]
     },
     "metadata": {},
     "output_type": "display_data"
    }
   ],
   "source": [
    "# Define a new parameter to run the decision tree model grid search on\n",
    "# Parameter: min_samples_split\n",
    "min_samples_split_param = {\"min_samples_split\": [2, 5, 10, 15, 20]}\n",
    "\n",
    "# Instantiate another grid search with this new parameter\n",
    "search2 = GridSearchCV(dt, min_samples_split_param, scoring=scoring_metrics, n_jobs=1, refit='f1', cv=kf)\n",
    "\n",
    "# Execute the grid search on the train data\n",
    "dt_model2 = search2.fit(x_train, y_train)\n",
    "\n",
    "# Determine the best model based on the min_sample_split parameter\n",
    "best_model2 = dt_model2.best_estimator_\n",
    "#best_model2\n",
    "\n",
    "# Predict on the tune data using the best model\n",
    "pred2 = dt_model2.predict(x_tune)\n",
    "\n",
    "# Calculate the performance metrics based on the predicted values\n",
    "tune_accuracy2 = accuracy_score(y_tune, pred2)\n",
    "tune_precision2 = precision_score(y_tune, pred2)\n",
    "tune_recall2 = recall_score(y_tune, pred2)\n",
    "tune_auc2 = roc_auc_score(y_tune, pred2)\n",
    "\n",
    "# Print performance metrics of the tune set\n",
    "print(\"Accuracy of the Tune Set:\", tune_accuracy2)\n",
    "print(\"Recall of the Tune Set:\", tune_recall2)\n",
    "print(\"Precision of the Tune Set:\", tune_precision2)\n",
    "print(\"AUC Score of the Tune Set:\", tune_auc2)\n",
    "\n",
    "# Create a Confusion Matrix from the tune predictions and the new model\n",
    "cm = confusion_matrix(y_tune, pred2)\n",
    "cm_display = ConfusionMatrixDisplay(confusion_matrix=cm, display_labels=dt_model2.classes_)\n",
    "cm_display.plot(cmap='PuRd')\n",
    "plt.show()\n"
   ]
  },
  {
   "cell_type": "markdown",
   "metadata": {},
   "source": [
    "21. Did the model improve with the new hyperparameter search?"
   ]
  },
  {
   "cell_type": "code",
   "execution_count": 159,
   "metadata": {},
   "outputs": [
    {
     "data": {
      "text/html": [
       "<div>\n",
       "<style scoped>\n",
       "    .dataframe tbody tr th:only-of-type {\n",
       "        vertical-align: middle;\n",
       "    }\n",
       "\n",
       "    .dataframe tbody tr th {\n",
       "        vertical-align: top;\n",
       "    }\n",
       "\n",
       "    .dataframe thead th {\n",
       "        text-align: right;\n",
       "    }\n",
       "</style>\n",
       "<table border=\"1\" class=\"dataframe\">\n",
       "  <thead>\n",
       "    <tr style=\"text-align: right;\">\n",
       "      <th></th>\n",
       "      <th>Model 1</th>\n",
       "      <th>Model 2</th>\n",
       "    </tr>\n",
       "  </thead>\n",
       "  <tbody>\n",
       "    <tr>\n",
       "      <th>Accuracy</th>\n",
       "      <td>0.928000</td>\n",
       "      <td>0.946667</td>\n",
       "    </tr>\n",
       "    <tr>\n",
       "      <th>Precision</th>\n",
       "      <td>0.350000</td>\n",
       "      <td>0.545455</td>\n",
       "    </tr>\n",
       "    <tr>\n",
       "      <th>Recall</th>\n",
       "      <td>0.333333</td>\n",
       "      <td>0.285714</td>\n",
       "    </tr>\n",
       "    <tr>\n",
       "      <th>F1 Score</th>\n",
       "      <td>0.341463</td>\n",
       "      <td>0.375000</td>\n",
       "    </tr>\n",
       "    <tr>\n",
       "      <th>AUC Score</th>\n",
       "      <td>0.648305</td>\n",
       "      <td>0.635795</td>\n",
       "    </tr>\n",
       "  </tbody>\n",
       "</table>\n",
       "</div>"
      ],
      "text/plain": [
       "            Model 1   Model 2\n",
       "Accuracy   0.928000  0.946667\n",
       "Precision  0.350000  0.545455\n",
       "Recall     0.333333  0.285714\n",
       "F1 Score   0.341463  0.375000\n",
       "AUC Score  0.648305  0.635795"
      ]
     },
     "execution_count": 159,
     "metadata": {},
     "output_type": "execute_result"
    }
   ],
   "source": [
    "# Create a df to compare the first and second model\n",
    "model1 = [tune_accuracy, tune_precision, tune_recall, f1_score(y_tune, tune_pred), tune_auc]\n",
    "model2 = [tune_accuracy2, tune_precision2, tune_recall2, f1_score(y_tune, pred2), tune_auc2]\n",
    "\n",
    "model_comparison_df = pd.DataFrame({\"Model 1\": model1, \"Model 2\": model2}, index=[\"Accuracy\", \"Precision\", \"Recall\", \"F1 Score\", \"AUC Score\"])\n",
    "\n",
    "model_comparison_df"
   ]
  },
  {
   "cell_type": "markdown",
   "metadata": {},
   "source": [
    "The model did not improve significantly with the new hyperparameter `min_samples_split`, as they both performed differently depending on various performance metrics. The first model, which found the best `max_depth`, has a greater recall and AUC Score than the second model. The second model, which found the best `min_samples_split` has a better accuracy, precision, and f1 score. Overall, it appears that the model improved slightly with this different hyperparameter."
   ]
  },
  {
   "cell_type": "markdown",
   "metadata": {},
   "source": [
    "22. Using the better model, predict the test data and print out the results."
   ]
  },
  {
   "cell_type": "code",
   "execution_count": 167,
   "metadata": {},
   "outputs": [
    {
     "name": "stdout",
     "output_type": "stream",
     "text": [
      "Test Data Performance\n",
      "Accuracy: 0.925531914893617\n",
      "Recall: 0.23076923076923078\n",
      "Precision: 0.14285714285714285\n",
      "F1 Score: 0.17647058823529413\n",
      "AUC Score: 0.5573440643863179\n"
     ]
    },
    {
     "data": {
      "image/png": "[encoded data removed]",
      "text/plain": [
       "<Figure size 640x480 with 2 Axes>"
      ]
     },
     "metadata": {},
     "output_type": "display_data"
    },
    {
     "data": {
      "image/png": "[encoded data removed]",
      "text/plain": [
       "<Figure size 640x480 with 1 Axes>"
      ]
     },
     "metadata": {},
     "output_type": "display_data"
    }
   ],
   "source": [
    "# Better model = dt_model2\n",
    "\n",
    "# Predict on the test data\n",
    "pred_test = dt_model2.predict(x_test)\n",
    "\n",
    "# Calculate the performance metrics based on the predicted values\n",
    "test_accuracy = accuracy_score(y_test, pred_test)\n",
    "test_precision = precision_score(y_test, pred_test)\n",
    "test_recall = recall_score(y_test, pred_test)\n",
    "test_f1 = f1_score(y_test, pred_test)\n",
    "test_auc = roc_auc_score(y_test, pred_test)\n",
    "\n",
    "# Print performance metrics of the test data\n",
    "print(\"Test Data Performance\")\n",
    "print(\"Accuracy:\", test_accuracy)\n",
    "print(\"Recall:\", test_precision)\n",
    "print(\"Precision:\", test_recall)\n",
    "print(\"F1 Score:\", test_f1)\n",
    "print(\"AUC Score:\", test_auc)\n",
    "\n",
    "# Create a Confusion Matrix from the test predictions\n",
    "cm = confusion_matrix(y_test, pred_test)\n",
    "cm_display = ConfusionMatrixDisplay(confusion_matrix=cm, display_labels=dt_model2.classes_)\n",
    "cm_display.plot(cmap='Oranges')\n",
    "plt.show()\n",
    "\n",
    "# Determine variable importance\n",
    "var_importance2 = pd.DataFrame(best_model2.feature_importances_, index=x_test.columns, columns=['Importance']).sort_values(by=\"Importance\", ascending=False)\n",
    "\n",
    "# Graph variable importance\n",
    "plt.figure()\n",
    "var_importance2.Importance.nlargest(4).sort_values().plot(kind=\"barh\")\n",
    "plt.xlabel(\"Variable Importance\")\n",
    "plt.ylabel(\"Features\")\n",
    "plt.show()\n"
   ]
  },
  {
   "cell_type": "markdown",
   "metadata": {},
   "source": [
    "23. Summarize what you learned along the way and make recommendations to your boss on how this could be used moving forward, being careful not to over promise."
   ]
  },
  {
   "cell_type": "markdown",
   "metadata": {},
   "source": [
    "#### Summary\n",
    "Overall, I found that this dataset was not very useful for predicting aspects of movies that can be indicative of a high IMDB rating. The most useful feature correlating with a IMDB score of above 8.0 was budget, which is self-explanatory as a movie with a larger budget has more potential to do well.\n",
    "\n",
    "As this process went on, I kept eliminating variables that I found to be not useful for what this model was trying to predict. For instance variables such as gross and number of likes are only valuable after a movie is released and have no impact on the process of trying to produce a highly rated movie. Other variables such as color and aspect ratio should be irrelevant because all movies nowadays are generally made in color and with a standard aspect ratio, and it would not be valuable advice to make a movie otherwise. The variables having to do with Facebook likes can be misleading, because Facebook was only created in 2004 and has drastically grown in users since then, while IMDB ratings have existed for far longer. This means that older movies that are highly rated will be misrepresented in comparison to newer movies that have been released in the same time span as Facebook. Other variables, such as title, year, and more are not relevant when recommending useful insights to produce a highly-rated movie. By the time these variables were dropped, the only useful variables remaining were budget, genre, duration, rating, and whether the movie has a well-established director or actor. \n",
    "\n",
    "Along the way, I also learned that models with different hyperparameter settings will vary in performance metrics scores. In other words, the best model may not always be the model with the best accuracy, precision, recall, and AUC score. Some of these scores may be better for different models. As a result, it is best to pick out a performance metric that best aligns with the goal of what you are trying to predict.\n",
    "\n",
    "\n",
    "#### Recommendation\n",
    "Given the problem of trying to predict new movies that might get high IMDB scores, I looked at common aspects that might lead existing movies to be rated by IMDB as 8.0 or higher. I found that movies with larger budgets tended to be rated higher. Also movies with a duration of roughly **170 minutes** OR roughly **125 minutes** are likely to be rated highly. Though movies across all genres have the potential to be rated highly, **action** movies have historically done the best. Similarly, **R rated** movies are best correlated with higher scores, though this aspect is generally unimportant and movies with other content ratings still have the potential to score highly.\n",
    "\n",
    "***In conclusion, I recommend scaling up the budget to create an exhilarating, dramatic action movie that is just shy of 3 hours long.***"
   ]
  }
 ],
 "metadata": {
  "kernelspec": {
   "display_name": "Python 3",
   "language": "python",
   "name": "python3"
  },
  "language_info": {
   "codemirror_mode": {
    "name": "ipython",
    "version": 3
   },
   "file_extension": ".py",
   "mimetype": "text/x-python",
   "name": "python",
   "nbconvert_exporter": "python",
   "pygments_lexer": "ipython3",
   "version": "3.12.8"
  }
 },
 "nbformat": 4,
 "nbformat_minor": 2
}
